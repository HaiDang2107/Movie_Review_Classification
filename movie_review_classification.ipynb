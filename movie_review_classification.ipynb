{
  "cells": [
    {
      "cell_type": "markdown",
      "metadata": {
        "id": "view-in-github",
        "colab_type": "text"
      },
      "source": [
        "<a href=\"https://colab.research.google.com/github/HaiDang2107/Movie_Review_Classification/blob/main/movie_review_classification.ipynb\" target=\"_parent\"><img src=\"https://colab.research.google.com/assets/colab-badge.svg\" alt=\"Open In Colab\"/></a>"
      ]
    },
    {
      "cell_type": "code",
      "execution_count": null,
      "id": "d6f86ce2-cd52-40ad-a3af-c95ab129ca69",
      "metadata": {
        "id": "d6f86ce2-cd52-40ad-a3af-c95ab129ca69"
      },
      "outputs": [],
      "source": [
        "from keras.datasets import imdb"
      ]
    },
    {
      "cell_type": "markdown",
      "source": [
        "# Load training data, test data"
      ],
      "metadata": {
        "id": "XSluYxrY4_Vt"
      },
      "id": "XSluYxrY4_Vt"
    },
    {
      "cell_type": "code",
      "execution_count": null,
      "id": "0882d535-a325-412c-babb-6ca9f0f13dbe",
      "metadata": {
        "colab": {
          "base_uri": "https://localhost:8080/"
        },
        "id": "0882d535-a325-412c-babb-6ca9f0f13dbe",
        "outputId": "09f6c3e6-b897-4b30-8593-aa11b1cfdab0"
      },
      "outputs": [
        {
          "output_type": "stream",
          "name": "stdout",
          "text": [
            "Downloading data from https://storage.googleapis.com/tensorflow/tf-keras-datasets/imdb.npz\n",
            "\u001b[1m17464789/17464789\u001b[0m \u001b[32m━━━━━━━━━━━━━━━━━━━━\u001b[0m\u001b[37m\u001b[0m \u001b[1m0s\u001b[0m 0us/step\n"
          ]
        }
      ],
      "source": [
        "(train_data, train_label), (test_data, test_labels) = imdb.load_data(num_words=10000)"
      ]
    },
    {
      "cell_type": "code",
      "source": [
        "print(train_data.shape, test_data.shape)"
      ],
      "metadata": {
        "colab": {
          "base_uri": "https://localhost:8080/"
        },
        "id": "B7NO3-h0RUap",
        "outputId": "482fed56-8e58-46bd-d098-eca045c18456"
      },
      "id": "B7NO3-h0RUap",
      "execution_count": null,
      "outputs": [
        {
          "output_type": "stream",
          "name": "stdout",
          "text": [
            "(25000,) (25000,)\n"
          ]
        }
      ]
    },
    {
      "cell_type": "markdown",
      "source": [
        "# Convert from a sequence of keys into the origin comment"
      ],
      "metadata": {
        "id": "fNS2aKkL5FMz"
      },
      "id": "fNS2aKkL5FMz"
    },
    {
      "cell_type": "code",
      "source": [
        "word_index = imdb.get_word_index() # dictionary mapping\n",
        "reversed_word_index = dict([(value, key) for (key, value) in word_index.items()]) # Chuyển từ key sang value\n",
        "decoded_review = ' '.join([reversed_word_index.get(i - 3, '?') for i in train_data[0]]) # 3 kí tự đầu là ký tự đặc biệt\n",
        "print(decoded_review)"
      ],
      "metadata": {
        "colab": {
          "base_uri": "https://localhost:8080/"
        },
        "id": "nCXoeVpy15HZ",
        "outputId": "bd4b7c50-43fb-4e5c-d673-ed2296f537ab"
      },
      "execution_count": null,
      "outputs": [
        {
          "output_type": "stream",
          "name": "stdout",
          "text": [
            "Downloading data from https://storage.googleapis.com/tensorflow/tf-keras-datasets/imdb_word_index.json\n",
            "\u001b[1m1641221/1641221\u001b[0m \u001b[32m━━━━━━━━━━━━━━━━━━━━\u001b[0m\u001b[37m\u001b[0m \u001b[1m1s\u001b[0m 0us/step\n",
            "? this film was just brilliant casting location scenery story direction everyone's really suited the part they played and you could just imagine being there robert ? is an amazing actor and now the same being director ? father came from the same scottish island as myself so i loved the fact there was a real connection with this film the witty remarks throughout the film were great it was just brilliant so much that i bought the film as soon as it was released for ? and would recommend it to everyone to watch and the fly fishing was amazing really cried at the end it was so sad and you know what they say if you cry at a film it must have been good and this definitely was also ? to the two little boy's that played the ? of norman and paul they were just brilliant children are often left out of the ? list i think because the stars that play them all grown up are such a big profile for the whole film but these children are amazing and should be praised for what they have done don't you think the whole story was so lovely because it was true and was someone's life after all that was shared with us all\n"
          ]
        }
      ],
      "id": "nCXoeVpy15HZ"
    },
    {
      "cell_type": "markdown",
      "source": [
        "# Prepare the data\n",
        "- Ta cần chuyển danh sách các số nguyên thành vecto nhị phân (gồm các giá trị 0, 1) có độ dài cố định bởi Machine Learning cần đầu vào có kích thước cố định.\n",
        "- Bên cạnh đó, một số mô hình yêu cầu kiểu dữ liệu float32 nên cần chuyển về kiểu này"
      ],
      "metadata": {
        "id": "DgywyyPS9YbG"
      },
      "id": "DgywyyPS9YbG"
    },
    {
      "cell_type": "code",
      "source": [
        "import numpy as np\n",
        "\n",
        "def vectorize_sequences(sequences, dimension=10000):\n",
        "  # Tạo một ma trận 0 có shape(samples, words_indices) ~ (samples, 10000)\n",
        "  results = np.zeros((len(sequences), dimension))\n",
        "\n",
        "  # Hàm enumerate(sequences) duyệt qua từng phần tử của sequences và trả về (index, value) của từng phàn tử\n",
        "  # result[i, sequence] = 1. : đánh dấu tại sample i, từ sequence đã xuất hiện\n",
        "  # 1. là kiểu float32\n",
        "  for i, sequence in enumerate(sequences):\n",
        "    results[i, sequence] = 1.\n",
        "  return results\n",
        "\n",
        "# vectorize training data and test data\n",
        "x_train = vectorize_sequences(train_data)\n",
        "x_test = vectorize_sequences(test_data)"
      ],
      "metadata": {
        "id": "ZYJiPisk473A"
      },
      "id": "ZYJiPisk473A",
      "execution_count": null,
      "outputs": []
    },
    {
      "cell_type": "code",
      "source": [
        "x_train[0]"
      ],
      "metadata": {
        "colab": {
          "base_uri": "https://localhost:8080/"
        },
        "id": "475l2HsQ5BrQ",
        "outputId": "c8b7b398-f82e-4778-e713-7fd780755958"
      },
      "id": "475l2HsQ5BrQ",
      "execution_count": null,
      "outputs": [
        {
          "output_type": "execute_result",
          "data": {
            "text/plain": [
              "array([0., 1., 1., ..., 0., 0., 0.])"
            ]
          },
          "metadata": {},
          "execution_count": 8
        }
      ]
    },
    {
      "cell_type": "code",
      "source": [
        "y_train = np.asarray(train_label).astype('float32')\n",
        "y_test = np.asarray(test_labels).astype('float32')"
      ],
      "metadata": {
        "id": "KFdHprdZ-fRf"
      },
      "id": "KFdHprdZ-fRf",
      "execution_count": null,
      "outputs": []
    },
    {
      "cell_type": "markdown",
      "source": [
        "# Build a network"
      ],
      "metadata": {
        "id": "7kdZziRI_Pon"
      },
      "id": "7kdZziRI_Pon"
    },
    {
      "cell_type": "markdown",
      "source": [
        " 1. Model definition\n",
        "\n",
        "\n",
        "\n",
        "\n",
        "\n"
      ],
      "metadata": {
        "id": "io-xrknQK1FW"
      },
      "id": "io-xrknQK1FW"
    },
    {
      "cell_type": "code",
      "source": [
        "from keras import models\n",
        "from keras import layers\n",
        "\n",
        "model = models.Sequential()\n",
        "model.add(layers.Dense(16, activation='relu', input_shape=(10000,))) # input_shape= : Xác định số features của input ~ (batch_size, features)\n",
        "model.add(layers.Dense(16, activation='relu'))\n",
        "model.add(layers.Dense(16, activation='sigmoid'))"
      ],
      "metadata": {
        "id": "QV7KUyvS9WdA"
      },
      "id": "QV7KUyvS9WdA",
      "execution_count": null,
      "outputs": []
    },
    {
      "cell_type": "markdown",
      "source": [
        "2. Compiling the model\n",
        "\n",
        "Chuẩn bị mô hình trước khi training. We choose:\n",
        "*   Optimizer\n",
        "*   Loss function: Here, we opt for binary_crossentropy because it is suitable for probability output\n",
        "*   Metrics: Chỉ số đánh giá mô hình, không ảnh hưởng đến quá trình training như loss function\n",
        "\n",
        "!!! Có thể cấu hình lại parameter của optimizer hoặc pass một custom loss function (hàm mất mát tùy chỉnh)/custom metrics\n",
        "\n"
      ],
      "metadata": {
        "id": "-9s8GinXMigh"
      },
      "id": "-9s8GinXMigh"
    },
    {
      "cell_type": "code",
      "source": [
        "from keras import optimizers\n",
        "\n",
        "model.compile(optimizer=optimizers.RMSprop(lr=0.001),\n",
        "              loss='binary_crossentropy',\n",
        "              metrics=['accuracy'])"
      ],
      "metadata": {
        "id": "obwpBiyFPG1H"
      },
      "id": "obwpBiyFPG1H",
      "execution_count": null,
      "outputs": []
    },
    {
      "cell_type": "markdown",
      "source": [
        "3. Set a validation set aside\n",
        "- Validation set (tập kiểm tra) là tập dữ liệu dùng để quan sát mô hình có đang học tốt không trong quá trình học\n",
        "- Validation set được lấy một phần từ training data và không được dùng để cập nhật trọng số\n",
        "- Nếu loss trên validation set tăng nhưng traning loss giảm thì đây là dấu hiệu của overfitting<br>**Explain:** Mô hình hoạt động tốt trên training data, nhưng khi gặp dữ liệu mới (validation  data), mô hình không còn tổng quát được (overfit trên training data) dẫn đến validation loss tăng"
      ],
      "metadata": {
        "id": "_tCZAmonUX12"
      },
      "id": "_tCZAmonUX12"
    },
    {
      "cell_type": "code",
      "source": [
        "x_val = x_train[:10000]           # [:10000] ~ [0:10000]: lấy 10000 từ phần tử từ phần tử [0]\n",
        "partial_x_train = x_train[10000:] # [10000:]: lấy từ phần tử thứ 10000 đến hết\n",
        "y_val = y_train[:10000]\n",
        "partial_y_train = y_train[10000:]"
      ],
      "metadata": {
        "id": "7nTVHyUPTR8X"
      },
      "id": "7nTVHyUPTR8X",
      "execution_count": null,
      "outputs": []
    },
    {
      "cell_type": "markdown",
      "source": [
        "- Ta cũng có thể chỉ định số lượng samples của validation set trong lệnh fit() mà không cần chia thủ công"
      ],
      "metadata": {
        "id": "0gQykKmMXfdk"
      },
      "id": "0gQykKmMXfdk"
    },
    {
      "cell_type": "markdown",
      "source": [
        "4. Training the model"
      ],
      "metadata": {
        "id": "T5W0rBKbX2LT"
      },
      "id": "T5W0rBKbX2LT"
    },
    {
      "cell_type": "code",
      "source": [
        "history = model.fit(partial_x_train,\n",
        "                    partial_y_train,\n",
        "                    epochs=20,\n",
        "                    batch_size=512,\n",
        "                    validation_data=(x_val, y_val)) # validation_split=0.2: Lấy 20% dữ liệu làm validation (lấy ngẫu nhiên)\n",
        "# Object history ghi lại những dữ liệu dùng để đánh giá mô hình trong quá trình training"
      ],
      "metadata": {
        "colab": {
          "base_uri": "https://localhost:8080/",
          "height": 211
        },
        "id": "TyxlJudwX63g",
        "outputId": "81308965-1a71-4a90-bfc6-fcbd85749cce"
      },
      "id": "TyxlJudwX63g",
      "execution_count": null,
      "outputs": [
        {
          "output_type": "error",
          "ename": "NameError",
          "evalue": "name 'model' is not defined",
          "traceback": [
            "\u001b[0;31m---------------------------------------------------------------------------\u001b[0m",
            "\u001b[0;31mNameError\u001b[0m                                 Traceback (most recent call last)",
            "\u001b[0;32m<ipython-input-6-55a59ae41804>\u001b[0m in \u001b[0;36m<cell line: 0>\u001b[0;34m()\u001b[0m\n\u001b[0;32m----> 1\u001b[0;31m history = model.fit(partial_x_train, \n\u001b[0m\u001b[1;32m      2\u001b[0m                     \u001b[0mpartial_y_train\u001b[0m\u001b[0;34m,\u001b[0m\u001b[0;34m\u001b[0m\u001b[0;34m\u001b[0m\u001b[0m\n\u001b[1;32m      3\u001b[0m                     \u001b[0mepochs\u001b[0m\u001b[0;34m=\u001b[0m\u001b[0;36m20\u001b[0m\u001b[0;34m,\u001b[0m\u001b[0;34m\u001b[0m\u001b[0;34m\u001b[0m\u001b[0m\n\u001b[1;32m      4\u001b[0m                     \u001b[0mbatch_size\u001b[0m\u001b[0;34m=\u001b[0m\u001b[0;36m512\u001b[0m\u001b[0;34m,\u001b[0m\u001b[0;34m\u001b[0m\u001b[0;34m\u001b[0m\u001b[0m\n\u001b[1;32m      5\u001b[0m                     validation_data=(x_val, y_val)) # validation_data=0.2: Lấy 20% dữ liệu làm validation\n",
            "\u001b[0;31mNameError\u001b[0m: name 'model' is not defined"
          ]
        }
      ]
    },
    {
      "cell_type": "markdown",
      "source": [
        "# Evaluate the model"
      ],
      "metadata": {
        "id": "5Dsk_6wJ4cqL"
      },
      "id": "5Dsk_6wJ4cqL"
    },
    {
      "cell_type": "markdown",
      "source": [
        "1. Plot the training and validation loss"
      ],
      "metadata": {
        "id": "5ti3EIhp5fLL"
      },
      "id": "5ti3EIhp5fLL"
    },
    {
      "cell_type": "code",
      "source": [
        "import matplotlib.pyplot as plt\n",
        "\n",
        "history_dict = history.history # .history: tham chiếu đến thuộc tính history (là một dictionary/map)\n",
        "loss_values = history_dict['loss']\n",
        "val_loss_values = history_dict['val_loss'] # Tập validation\n",
        "\n",
        "epochs = range(1, len(loss_values) + 1)\n",
        "\n",
        "plt.plot(epochs, loss_values, 'bo', label='Training loss') # 'bo' means \"blue dot\"\n",
        "plt.plot(epochs, val_loss_values, 'b', label='Validation loss') # 'b' means \"solid (liền mạch) blue line\"\n",
        "plt.title('Training and Validation loss')\n",
        "plt.xlabel('Epochs')\n",
        "plt.ylabel('Loss')\n",
        "plt.legend() # chú giải\n",
        "\n",
        "plt.show()"
      ],
      "metadata": {
        "id": "lMK1EVy3Y88l"
      },
      "id": "lMK1EVy3Y88l",
      "execution_count": null,
      "outputs": []
    },
    {
      "cell_type": "markdown",
      "source": [
        "- Save the graph"
      ],
      "metadata": {
        "id": "MD6XWeePKlQF"
      },
      "id": "MD6XWeePKlQF"
    },
    {
      "cell_type": "code",
      "source": [
        "# Lưu ý: phải mouth trước\n",
        "# Lưu biểu đồ vào Google Drive\n",
        "plt.savefig('/content/drive/My Drive/Colab Notebooks/loss.png')\n",
        "\n",
        "# Nếu bạn muốn lưu dưới dạng PDF\n",
        "# plt.savefig('/content/drive/My Drive/my_plot.pdf')\n"
      ],
      "metadata": {
        "id": "V0storXBKNMx"
      },
      "id": "V0storXBKNMx",
      "execution_count": null,
      "outputs": []
    },
    {
      "cell_type": "markdown",
      "source": [
        "2. Plot the training and validation accuracy\n",
        "- Accuracy được tính dựa trên tỉ lệ phần trăm các dự đoán đúng so số lượng dự đoán trong training/validation set"
      ],
      "metadata": {
        "id": "wFg6ITHz5lOD"
      },
      "id": "wFg6ITHz5lOD"
    },
    {
      "cell_type": "code",
      "source": [
        "plt.clf() # Clear the figure\n",
        "\n",
        "acc_values = history_dict['acc']\n",
        "val_acc_values = history_dict['val_acc'] # Tập validation\n",
        "\n",
        "plt.plot(epochs, acc_values, 'bo', label='Training acc') # 'bo' means \"blue dot\"\n",
        "plt.plot(epochs, val_acc_values, 'b', label='Validation acc') # 'b' means \"solid (liền mạch) blue line\"\n",
        "plt.title('Training and Validation accuracy')\n",
        "plt.xlabel('Epochs')\n",
        "plt.ylabel('Loss')\n",
        "plt.legend()\n",
        "\n",
        "plt.show()"
      ],
      "metadata": {
        "id": "_UBCxlnvHoD-"
      },
      "id": "_UBCxlnvHoD-",
      "execution_count": null,
      "outputs": []
    },
    {
      "cell_type": "markdown",
      "source": [
        "- Save the graph"
      ],
      "metadata": {
        "id": "zByi9nQYKyEE"
      },
      "id": "zByi9nQYKyEE"
    },
    {
      "cell_type": "code",
      "source": [
        "# Lưu ý: phải mouth trước\n",
        "# Lưu biểu đồ vào Google Drive\n",
        "plt.savefig('/content/drive/My Drive/Colab Notebooks/accuracy.png')\n",
        "\n",
        "# Nếu bạn muốn lưu dưới dạng PDF\n",
        "# plt.savefig('/content/drive/My Drive/my_plot.pdf')\n"
      ],
      "metadata": {
        "id": "mWVOsSJaKvht"
      },
      "execution_count": null,
      "outputs": [],
      "id": "mWVOsSJaKvht"
    },
    {
      "cell_type": "markdown",
      "source": [
        "3. Evaluation <br>\n",
        "\n",
        "Từ graph, ta có thể nhận xét quá trình training:\n",
        "- Nếu training loss tăng và training accuracy giảm, hay loss vẫn cao sau nhiều epochs ==> Mô hình học kém\n",
        "- Nếu training loss hội tụ về gần 0 (hay training accuracy hội tụ về gần 1), nhưng validation loss không hội tụ về gần 0 (validation accuracy không gần 1) ==> Overfitting\n",
        "\n",
        "Nếu gặp những vấn đề trên ==> retrain the model from scratch (train lại từ đầu)\n",
        "\n",
        "Bên cạnh đó, nếu loss hay accuracy ổn định về phần sau của graph thì ta có thể rút số lượng epochs khi retrain.\n"
      ],
      "metadata": {
        "id": "Gf7A7Gj3LxwM"
      },
      "id": "Gf7A7Gj3LxwM"
    },
    {
      "cell_type": "markdown",
      "source": [
        "#Retrain the model"
      ],
      "metadata": {
        "id": "yH40X0PEOA3a"
      },
      "id": "yH40X0PEOA3a"
    },
    {
      "cell_type": "code",
      "source": [
        "model = models.Sequential()\n",
        "model.add(layers.Dense(16, activation='relu', input_shape=(10000,))) # input_shape= : Xác định số features của input ~ (batch_size, features)\n",
        "model.add(layers.Dense(16, activation='relu'))\n",
        "model.add(layers.Dense(16, activation='sigmoid'))\n",
        "\n",
        "model.compile(optimizer='rmsprop',\n",
        "              loss='binary_crossentropy',\n",
        "              metrics=['accuracy'])\n",
        "\n",
        "history = model.fit(partial_x_train,\n",
        "                    partial_y_train,\n",
        "                    epochs=4,\n",
        "                    batch_size=512,\n",
        "                    validation_split=0.15)\n",
        "\n",
        "# trả về tuple (loss, <chỉ số, ở đây là accuracy>) cuối cùng của model\n",
        "results = model.evaluate(x_test, y_test)\n",
        "print(results)"
      ],
      "metadata": {
        "id": "hD_FvT96N_BS"
      },
      "id": "hD_FvT96N_BS",
      "execution_count": null,
      "outputs": []
    },
    {
      "cell_type": "markdown",
      "source": [
        "- Draw the loss graph"
      ],
      "metadata": {
        "id": "ZLj-hBXpVLw6"
      },
      "id": "ZLj-hBXpVLw6"
    },
    {
      "cell_type": "code",
      "source": [
        "history_dict = history.history # .history: tham chiếu đến thuộc tính history (là một dictionary/map)\n",
        "loss_values = history_dict['loss']\n",
        "val_loss_values = history_dict['val_loss'] # Tập validation\n",
        "\n",
        "epochs = range(1, len(loss_values) + 1)\n",
        "\n",
        "plt.plot(epochs, loss_values, 'bo', label='Training loss') # 'bo' means \"blue dot\"\n",
        "plt.plot(epochs, val_loss_values, 'b', label='Validation loss') # 'b' means \"solid (liền mạch) blue line\"\n",
        "plt.title('Training and Validation loss')\n",
        "plt.xlabel('Epochs')\n",
        "plt.ylabel('Loss')\n",
        "plt.legend()\n",
        "\n",
        "plt.show()\n",
        "\n",
        "plt.savefig('/content/drive/My Drive/Colab Notebooks/retrain_loss.png')"
      ],
      "metadata": {
        "id": "MY5_l5r4WMK5"
      },
      "id": "MY5_l5r4WMK5",
      "execution_count": null,
      "outputs": []
    },
    {
      "cell_type": "markdown",
      "source": [
        "- Draw the accuracy graph"
      ],
      "metadata": {
        "id": "kN24x5O2Weyw"
      },
      "id": "kN24x5O2Weyw"
    },
    {
      "cell_type": "code",
      "source": [
        "plt.clf() #Clear the figure\n",
        "\n",
        "acc_values = history_dict['acc']\n",
        "val_acc_values = history_dict['val_acc'] # Tập validation\n",
        "\n",
        "plt.plot(epochs, acc_values, 'bo', label='Training acc') # 'bo' means \"blue dot\"\n",
        "plt.plot(epochs, val_acc_values, 'b', label='Validation acc') # 'b' means \"solid (liền mạch) blue line\"\n",
        "plt.title('Training and Validation accuracy')\n",
        "plt.xlabel('Epochs')\n",
        "plt.ylabel('Loss')\n",
        "plt.legend()\n",
        "\n",
        "plt.show()\n",
        "\n",
        "plt.savefig('/content/drive/My Drive/Colab Notebooks/retrain_accuracy.png')"
      ],
      "metadata": {
        "id": "8uFTi7YzWeNw"
      },
      "id": "8uFTi7YzWeNw",
      "execution_count": null,
      "outputs": []
    },
    {
      "cell_type": "markdown",
      "source": [
        "- Lưu lại mô hình vào Google Drive:\n",
        "<p><b><u>Step 1:</u></b> Mouth Google Drive (gắn Google Drive vào môi trường làm việc)</p>\n",
        "<p><b><u>Step 2:</u></b> Lưu mô hình</p>"
      ],
      "metadata": {
        "id": "Rwu97AGhAeDF"
      },
      "id": "Rwu97AGhAeDF"
    },
    {
      "cell_type": "code",
      "source": [
        "from google.colab import drive\n",
        "drive.mount('/content/drive')"
      ],
      "metadata": {
        "id": "OFpyjqV5AnWk"
      },
      "id": "OFpyjqV5AnWk",
      "execution_count": null,
      "outputs": []
    },
    {
      "cell_type": "code",
      "source": [
        "model.save('/content/drive/My Drive/Colab Notebook/TrainedMovieReviewClassificationModel.h5')\n",
        "# Trong Keras, định dạng .h5 được sử dụng để lưu trữ mô hình học sâu bao gồm tất cả các thông tin về mô hình như kiến trúc, trọng số và cấu hình huấn luyện."
      ],
      "metadata": {
        "id": "DAiqT9GiEbf6"
      },
      "id": "DAiqT9GiEbf6",
      "execution_count": null,
      "outputs": []
    },
    {
      "cell_type": "markdown",
      "source": [
        "# Predict the new data"
      ],
      "metadata": {
        "id": "n6g-BfMTYAoW"
      },
      "id": "n6g-BfMTYAoW"
    },
    {
      "cell_type": "code",
      "source": [
        "model.predict(x_test)\n",
        "print(x_test)"
      ],
      "metadata": {
        "id": "UGqRHx10YYqb"
      },
      "id": "UGqRHx10YYqb",
      "execution_count": null,
      "outputs": []
    },
    {
      "cell_type": "code",
      "source": [
        "# Từ điển ánh xạ từ từ sang chỉ số\n",
        "# word_index = imdb.get_word_index()\n",
        "\n",
        "# Thêm 3 phần tử đặc biệt vào từ điển (để giải quyết các chỉ số cho padding và các từ không có trong từ điển)\n",
        "word_index = {k: (v + 3) for k, v in word_index.items()}\n",
        "word_index['<PAD>'] = 0\n",
        "word_index['<START>'] = 1\n",
        "word_index['<UNK>'] = 2\n",
        "word_index['<UNUSED>'] = 3\n",
        "\n",
        "comment = \"Omg! This film is amazing. I have never watched such an emotional one before!\"\n",
        "\n",
        "# Chuyển chuỗi thành danh sách các chỉ số\n",
        "comment_indices = [word_index.get(word, 2) for word in comment.lower().split()]  # Sử dụng '<UNK>' cho từ không có trong từ điển\n",
        "\n",
        "model.predict(comment_indices)"
      ],
      "metadata": {
        "id": "ALQwAhOHYvc-"
      },
      "id": "ALQwAhOHYvc-",
      "execution_count": null,
      "outputs": []
    }
  ],
  "metadata": {
    "kernelspec": {
      "display_name": "Python 3",
      "name": "python3"
    },
    "language_info": {
      "name": "python"
    },
    "colab": {
      "provenance": [],
      "include_colab_link": true
    }
  },
  "nbformat": 4,
  "nbformat_minor": 5
}